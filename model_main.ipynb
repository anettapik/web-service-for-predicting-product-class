{
  "cells": [
    {
      "cell_type": "code",
      "execution_count": 1,
      "metadata": {
        "id": "CAj16Udor6Hz"
      },
      "outputs": [],
      "source": [
        "import pandas as pd\n",
        "import zipfile\n",
        "from sklearn.model_selection import train_test_split\n",
        "from sklearn.linear_model import LogisticRegression\n",
        "from sklearn.metrics import accuracy_score, classification_report\n",
        "from sklearn.model_selection import train_test_split\n",
        "from sklearn.preprocessing import StandardScaler\n",
        "from sklearn.feature_extraction.text import TfidfVectorizer\n",
        "from catboost import CatBoostClassifier, Pool\n",
        "from sklearn.metrics import accuracy_score, precision_score, recall_score, f1_score\n",
        "import matplotlib.pyplot as plt\n"
      ]
    },
    {
      "cell_type": "code",
      "execution_count": 18,
      "metadata": {
        "id": "3rf3VEz3r6H0"
      },
      "outputs": [],
      "source": [
        "from joblib import Memory"
      ]
    },
    {
      "cell_type": "markdown",
      "metadata": {
        "id": "czHLKXNBr6H1"
      },
      "source": [
        "# Считываем данные"
      ]
    },
    {
      "cell_type": "code",
      "execution_count": 2,
      "metadata": {
        "id": "5l7hMOc7r6H2"
      },
      "outputs": [],
      "source": [
        "df = pd.read_csv('pricerunner_aggregate.csv')\n",
        "df.columns = df.columns.str.strip().str.lower().str.replace(' ', '_')\n",
        "data = df[['product_title', 'merchant_id', 'cluster_label','category_id']]"
      ]
    },
    {
      "cell_type": "code",
      "execution_count": 20,
      "metadata": {
        "id": "bVUBepmvr6H2"
      },
      "outputs": [],
      "source": [
        "data.columns = data.columns.str.strip()"
      ]
    },
    {
      "cell_type": "code",
      "execution_count": 21,
      "metadata": {
        "colab": {
          "base_uri": "https://localhost:8080/"
        },
        "id": "dMzA7NjFr6H2",
        "outputId": "47ae0668-8bbe-48a5-9846-31eaafb2125f"
      },
      "outputs": [
        {
          "data": {
            "text/plain": [
              "product_id        0\n",
              "product_title     0\n",
              "merchant_id       0\n",
              "cluster_id        0\n",
              "cluster_label     0\n",
              "category_id       0\n",
              "category_label    0\n",
              "dtype: int64"
            ]
          },
          "execution_count": 21,
          "metadata": {},
          "output_type": "execute_result"
        }
      ],
      "source": [
        "# Check for missing values in each column\n",
        "missing_values = df.isnull().sum()\n",
        "missing_values"
      ]
    },
    {
      "cell_type": "code",
      "execution_count": 22,
      "metadata": {
        "colab": {
          "base_uri": "https://localhost:8080/",
          "height": 289
        },
        "id": "aZCdye6nr6H3",
        "outputId": "6fdd02d1-f5ac-4467-fa56-ac6ce3fa315e"
      },
      "outputs": [
        {
          "data": {
            "text/html": [
              "\n",
              "  <div id=\"df-ef804b69-1180-400a-8cc6-a78f75a8b22c\" class=\"colab-df-container\">\n",
              "    <div>\n",
              "<style scoped>\n",
              "    .dataframe tbody tr th:only-of-type {\n",
              "        vertical-align: middle;\n",
              "    }\n",
              "\n",
              "    .dataframe tbody tr th {\n",
              "        vertical-align: top;\n",
              "    }\n",
              "\n",
              "    .dataframe thead th {\n",
              "        text-align: right;\n",
              "    }\n",
              "</style>\n",
              "<table border=\"1\" class=\"dataframe\">\n",
              "  <thead>\n",
              "    <tr style=\"text-align: right;\">\n",
              "      <th></th>\n",
              "      <th>product_title</th>\n",
              "      <th>merchant_id</th>\n",
              "      <th>cluster_label</th>\n",
              "      <th>category_id</th>\n",
              "    </tr>\n",
              "  </thead>\n",
              "  <tbody>\n",
              "    <tr>\n",
              "      <th>0</th>\n",
              "      <td>apple iphone 8 plus 64gb silver</td>\n",
              "      <td>1</td>\n",
              "      <td>Apple iPhone 8 Plus 64GB</td>\n",
              "      <td>2612</td>\n",
              "    </tr>\n",
              "    <tr>\n",
              "      <th>1</th>\n",
              "      <td>apple iphone 8 plus 64 gb spacegrau</td>\n",
              "      <td>2</td>\n",
              "      <td>Apple iPhone 8 Plus 64GB</td>\n",
              "      <td>2612</td>\n",
              "    </tr>\n",
              "    <tr>\n",
              "      <th>2</th>\n",
              "      <td>apple mq8n2b/a iphone 8 plus 64gb 5.5 12mp sim...</td>\n",
              "      <td>3</td>\n",
              "      <td>Apple iPhone 8 Plus 64GB</td>\n",
              "      <td>2612</td>\n",
              "    </tr>\n",
              "    <tr>\n",
              "      <th>3</th>\n",
              "      <td>apple iphone 8 plus 64gb space grey</td>\n",
              "      <td>4</td>\n",
              "      <td>Apple iPhone 8 Plus 64GB</td>\n",
              "      <td>2612</td>\n",
              "    </tr>\n",
              "    <tr>\n",
              "      <th>4</th>\n",
              "      <td>apple iphone 8 plus gold 5.5 64gb 4g unlocked ...</td>\n",
              "      <td>5</td>\n",
              "      <td>Apple iPhone 8 Plus 64GB</td>\n",
              "      <td>2612</td>\n",
              "    </tr>\n",
              "  </tbody>\n",
              "</table>\n",
              "</div>\n",
              "    <div class=\"colab-df-buttons\">\n",
              "\n",
              "  <div class=\"colab-df-container\">\n",
              "    <button class=\"colab-df-convert\" onclick=\"convertToInteractive('df-ef804b69-1180-400a-8cc6-a78f75a8b22c')\"\n",
              "            title=\"Convert this dataframe to an interactive table.\"\n",
              "            style=\"display:none;\">\n",
              "\n",
              "  <svg xmlns=\"http://www.w3.org/2000/svg\" height=\"24px\" viewBox=\"0 -960 960 960\">\n",
              "    <path d=\"M120-120v-720h720v720H120Zm60-500h600v-160H180v160Zm220 220h160v-160H400v160Zm0 220h160v-160H400v160ZM180-400h160v-160H180v160Zm440 0h160v-160H620v160ZM180-180h160v-160H180v160Zm440 0h160v-160H620v160Z\"/>\n",
              "  </svg>\n",
              "    </button>\n",
              "\n",
              "  <style>\n",
              "    .colab-df-container {\n",
              "      display:flex;\n",
              "      gap: 12px;\n",
              "    }\n",
              "\n",
              "    .colab-df-convert {\n",
              "      background-color: #E8F0FE;\n",
              "      border: none;\n",
              "      border-radius: 50%;\n",
              "      cursor: pointer;\n",
              "      display: none;\n",
              "      fill: #1967D2;\n",
              "      height: 32px;\n",
              "      padding: 0 0 0 0;\n",
              "      width: 32px;\n",
              "    }\n",
              "\n",
              "    .colab-df-convert:hover {\n",
              "      background-color: #E2EBFA;\n",
              "      box-shadow: 0px 1px 2px rgba(60, 64, 67, 0.3), 0px 1px 3px 1px rgba(60, 64, 67, 0.15);\n",
              "      fill: #174EA6;\n",
              "    }\n",
              "\n",
              "    .colab-df-buttons div {\n",
              "      margin-bottom: 4px;\n",
              "    }\n",
              "\n",
              "    [theme=dark] .colab-df-convert {\n",
              "      background-color: #3B4455;\n",
              "      fill: #D2E3FC;\n",
              "    }\n",
              "\n",
              "    [theme=dark] .colab-df-convert:hover {\n",
              "      background-color: #434B5C;\n",
              "      box-shadow: 0px 1px 3px 1px rgba(0, 0, 0, 0.15);\n",
              "      filter: drop-shadow(0px 1px 2px rgba(0, 0, 0, 0.3));\n",
              "      fill: #FFFFFF;\n",
              "    }\n",
              "  </style>\n",
              "\n",
              "    <script>\n",
              "      const buttonEl =\n",
              "        document.querySelector('#df-ef804b69-1180-400a-8cc6-a78f75a8b22c button.colab-df-convert');\n",
              "      buttonEl.style.display =\n",
              "        google.colab.kernel.accessAllowed ? 'block' : 'none';\n",
              "\n",
              "      async function convertToInteractive(key) {\n",
              "        const element = document.querySelector('#df-ef804b69-1180-400a-8cc6-a78f75a8b22c');\n",
              "        const dataTable =\n",
              "          await google.colab.kernel.invokeFunction('convertToInteractive',\n",
              "                                                    [key], {});\n",
              "        if (!dataTable) return;\n",
              "\n",
              "        const docLinkHtml = 'Like what you see? Visit the ' +\n",
              "          '<a target=\"_blank\" href=https://colab.research.google.com/notebooks/data_table.ipynb>data table notebook</a>'\n",
              "          + ' to learn more about interactive tables.';\n",
              "        element.innerHTML = '';\n",
              "        dataTable['output_type'] = 'display_data';\n",
              "        await google.colab.output.renderOutput(dataTable, element);\n",
              "        const docLink = document.createElement('div');\n",
              "        docLink.innerHTML = docLinkHtml;\n",
              "        element.appendChild(docLink);\n",
              "      }\n",
              "    </script>\n",
              "  </div>\n",
              "\n",
              "\n",
              "<div id=\"df-4e9ad952-4e43-4088-9198-2bdb065a5f12\">\n",
              "  <button class=\"colab-df-quickchart\" onclick=\"quickchart('df-4e9ad952-4e43-4088-9198-2bdb065a5f12')\"\n",
              "            title=\"Suggest charts\"\n",
              "            style=\"display:none;\">\n",
              "\n",
              "<svg xmlns=\"http://www.w3.org/2000/svg\" height=\"24px\"viewBox=\"0 0 24 24\"\n",
              "     width=\"24px\">\n",
              "    <g>\n",
              "        <path d=\"M19 3H5c-1.1 0-2 .9-2 2v14c0 1.1.9 2 2 2h14c1.1 0 2-.9 2-2V5c0-1.1-.9-2-2-2zM9 17H7v-7h2v7zm4 0h-2V7h2v10zm4 0h-2v-4h2v4z\"/>\n",
              "    </g>\n",
              "</svg>\n",
              "  </button>\n",
              "\n",
              "<style>\n",
              "  .colab-df-quickchart {\n",
              "      --bg-color: #E8F0FE;\n",
              "      --fill-color: #1967D2;\n",
              "      --hover-bg-color: #E2EBFA;\n",
              "      --hover-fill-color: #174EA6;\n",
              "      --disabled-fill-color: #AAA;\n",
              "      --disabled-bg-color: #DDD;\n",
              "  }\n",
              "\n",
              "  [theme=dark] .colab-df-quickchart {\n",
              "      --bg-color: #3B4455;\n",
              "      --fill-color: #D2E3FC;\n",
              "      --hover-bg-color: #434B5C;\n",
              "      --hover-fill-color: #FFFFFF;\n",
              "      --disabled-bg-color: #3B4455;\n",
              "      --disabled-fill-color: #666;\n",
              "  }\n",
              "\n",
              "  .colab-df-quickchart {\n",
              "    background-color: var(--bg-color);\n",
              "    border: none;\n",
              "    border-radius: 50%;\n",
              "    cursor: pointer;\n",
              "    display: none;\n",
              "    fill: var(--fill-color);\n",
              "    height: 32px;\n",
              "    padding: 0;\n",
              "    width: 32px;\n",
              "  }\n",
              "\n",
              "  .colab-df-quickchart:hover {\n",
              "    background-color: var(--hover-bg-color);\n",
              "    box-shadow: 0 1px 2px rgba(60, 64, 67, 0.3), 0 1px 3px 1px rgba(60, 64, 67, 0.15);\n",
              "    fill: var(--button-hover-fill-color);\n",
              "  }\n",
              "\n",
              "  .colab-df-quickchart-complete:disabled,\n",
              "  .colab-df-quickchart-complete:disabled:hover {\n",
              "    background-color: var(--disabled-bg-color);\n",
              "    fill: var(--disabled-fill-color);\n",
              "    box-shadow: none;\n",
              "  }\n",
              "\n",
              "  .colab-df-spinner {\n",
              "    border: 2px solid var(--fill-color);\n",
              "    border-color: transparent;\n",
              "    border-bottom-color: var(--fill-color);\n",
              "    animation:\n",
              "      spin 1s steps(1) infinite;\n",
              "  }\n",
              "\n",
              "  @keyframes spin {\n",
              "    0% {\n",
              "      border-color: transparent;\n",
              "      border-bottom-color: var(--fill-color);\n",
              "      border-left-color: var(--fill-color);\n",
              "    }\n",
              "    20% {\n",
              "      border-color: transparent;\n",
              "      border-left-color: var(--fill-color);\n",
              "      border-top-color: var(--fill-color);\n",
              "    }\n",
              "    30% {\n",
              "      border-color: transparent;\n",
              "      border-left-color: var(--fill-color);\n",
              "      border-top-color: var(--fill-color);\n",
              "      border-right-color: var(--fill-color);\n",
              "    }\n",
              "    40% {\n",
              "      border-color: transparent;\n",
              "      border-right-color: var(--fill-color);\n",
              "      border-top-color: var(--fill-color);\n",
              "    }\n",
              "    60% {\n",
              "      border-color: transparent;\n",
              "      border-right-color: var(--fill-color);\n",
              "    }\n",
              "    80% {\n",
              "      border-color: transparent;\n",
              "      border-right-color: var(--fill-color);\n",
              "      border-bottom-color: var(--fill-color);\n",
              "    }\n",
              "    90% {\n",
              "      border-color: transparent;\n",
              "      border-bottom-color: var(--fill-color);\n",
              "    }\n",
              "  }\n",
              "</style>\n",
              "\n",
              "  <script>\n",
              "    async function quickchart(key) {\n",
              "      const quickchartButtonEl =\n",
              "        document.querySelector('#' + key + ' button');\n",
              "      quickchartButtonEl.disabled = true;  // To prevent multiple clicks.\n",
              "      quickchartButtonEl.classList.add('colab-df-spinner');\n",
              "      try {\n",
              "        const charts = await google.colab.kernel.invokeFunction(\n",
              "            'suggestCharts', [key], {});\n",
              "      } catch (error) {\n",
              "        console.error('Error during call to suggestCharts:', error);\n",
              "      }\n",
              "      quickchartButtonEl.classList.remove('colab-df-spinner');\n",
              "      quickchartButtonEl.classList.add('colab-df-quickchart-complete');\n",
              "    }\n",
              "    (() => {\n",
              "      let quickchartButtonEl =\n",
              "        document.querySelector('#df-4e9ad952-4e43-4088-9198-2bdb065a5f12 button');\n",
              "      quickchartButtonEl.style.display =\n",
              "        google.colab.kernel.accessAllowed ? 'block' : 'none';\n",
              "    })();\n",
              "  </script>\n",
              "</div>\n",
              "    </div>\n",
              "  </div>\n"
            ],
            "text/plain": [
              "                                       product_title  merchant_id  \\\n",
              "0                    apple iphone 8 plus 64gb silver            1   \n",
              "1                apple iphone 8 plus 64 gb spacegrau            2   \n",
              "2  apple mq8n2b/a iphone 8 plus 64gb 5.5 12mp sim...            3   \n",
              "3                apple iphone 8 plus 64gb space grey            4   \n",
              "4  apple iphone 8 plus gold 5.5 64gb 4g unlocked ...            5   \n",
              "\n",
              "              cluster_label  category_id  \n",
              "0  Apple iPhone 8 Plus 64GB         2612  \n",
              "1  Apple iPhone 8 Plus 64GB         2612  \n",
              "2  Apple iPhone 8 Plus 64GB         2612  \n",
              "3  Apple iPhone 8 Plus 64GB         2612  \n",
              "4  Apple iPhone 8 Plus 64GB         2612  "
            ]
          },
          "execution_count": 22,
          "metadata": {},
          "output_type": "execute_result"
        }
      ],
      "source": [
        "data.head(5)"
      ]
    },
    {
      "cell_type": "code",
      "execution_count": 28,
      "metadata": {
        "colab": {
          "base_uri": "https://localhost:8080/"
        },
        "id": "86vksFnuv-cJ",
        "outputId": "d47c944a-99bd-4436-d3ad-d3711a950ed4"
      },
      "outputs": [
        {
          "data": {
            "text/plain": [
              "3      2547\n",
              "6      1591\n",
              "298    1523\n",
              "31     1350\n",
              "119    1239\n",
              "       ... \n",
              "37        1\n",
              "200       1\n",
              "296       1\n",
              "127       1\n",
              "371       1\n",
              "Name: merchant_id, Length: 306, dtype: int64"
            ]
          },
          "execution_count": 28,
          "metadata": {},
          "output_type": "execute_result"
        }
      ],
      "source": [
        "data['merchant_id'].value_counts()"
      ]
    },
    {
      "cell_type": "markdown",
      "metadata": {
        "id": "U23aPIs4r6H3"
      },
      "source": [
        "# Обучаем модель catboost"
      ]
    },
    {
      "cell_type": "code",
      "execution_count": 23,
      "metadata": {
        "colab": {
          "base_uri": "https://localhost:8080/"
        },
        "id": "EFraJESxr6H4",
        "outputId": "844fbaa6-713a-4826-ba0c-761c5294c5f7"
      },
      "outputs": [
        {
          "name": "stdout",
          "output_type": "stream",
          "text": [
            "0:\tlearn: 1.9294575\ttest: 1.9245807\tbest: 1.9245807 (0)\ttotal: 16.5s\tremaining: 2h 17m 4s\n",
            "50:\tlearn: 0.2052650\ttest: 0.1922149\tbest: 0.1922149 (50)\ttotal: 15m 39s\tremaining: 2h 17m 52s\n",
            "100:\tlearn: 0.1148578\ttest: 0.1117710\tbest: 0.1117710 (100)\ttotal: 31m 33s\tremaining: 2h 4m 40s\n",
            "150:\tlearn: 0.0952440\ttest: 0.0957286\tbest: 0.0957286 (150)\ttotal: 46m 12s\tremaining: 1h 46m 48s\n",
            "200:\tlearn: 0.0857362\ttest: 0.0890736\tbest: 0.0890736 (200)\ttotal: 1h 2m 16s\tremaining: 1h 32m 37s\n",
            "250:\tlearn: 0.0783711\ttest: 0.0843476\tbest: 0.0843476 (250)\ttotal: 1h 15m 38s\tremaining: 1h 15m 2s\n",
            "300:\tlearn: 0.0727188\ttest: 0.0816074\tbest: 0.0816074 (300)\ttotal: 1h 27m 40s\tremaining: 57m 57s\n",
            "350:\tlearn: 0.0679188\ttest: 0.0798171\tbest: 0.0798145 (349)\ttotal: 1h 40m 9s\tremaining: 42m 31s\n",
            "400:\tlearn: 0.0644566\ttest: 0.0784980\tbest: 0.0784980 (400)\ttotal: 1h 52m 46s\tremaining: 27m 50s\n",
            "450:\tlearn: 0.0613968\ttest: 0.0776256\tbest: 0.0776256 (450)\ttotal: 2h 5m 27s\tremaining: 13m 37s\n",
            "499:\tlearn: 0.0588266\ttest: 0.0769733\tbest: 0.0769733 (499)\ttotal: 2h 17m 50s\tremaining: 0us\n",
            "\n",
            "bestTest = 0.07697328676\n",
            "bestIteration = 499\n",
            "\n",
            "Test Accuracy: 0.9633300297324083\n",
            "Test Precision: 0.9636705053907902\n",
            "Test Recall: 0.9633300297324083\n",
            "Test F1 Score: 0.9633901586812703\n"
          ]
        }
      ],
      "source": [
        "text_features = ['product_title', 'cluster_label']\n",
        "\n",
        "# Замените 'целевая_переменная' на название вашей целевой переменной\n",
        "X = data.drop('category_id', axis=1)\n",
        "y = data['category_id']\n",
        "\n",
        "# Разделение на тренировочный и тестовый наборы данных\n",
        "X_train, X_test, y_train, y_test = train_test_split(X, y, test_size=0.2, random_state=42)\n",
        "\n",
        "# Создание объекта Pool с текстовыми признаками\n",
        "train_pool = Pool(data=X_train, label=y_train, text_features=text_features)\n",
        "test_pool = Pool(data=X_test, label=y_test, text_features=text_features)\n",
        "\n",
        "# Создание модели CatBoost\n",
        "model_cat_boost = CatBoostClassifier(iterations=500, depth=10, learning_rate=0.05, loss_function='MultiClass', random_seed=42)\n",
        "\n",
        "# Обучение модели\n",
        "model_cat_boost.fit(train_pool, eval_set=test_pool, verbose=50)\n",
        "\n",
        "# Расчет различных метрик\n",
        "accuracy = accuracy_score(y_test, y_pred)\n",
        "precision = precision_score(y_test, y_pred, average='weighted')\n",
        "recall = recall_score(y_test, y_pred, average='weighted')\n",
        "f1 = f1_score(y_test, y_pred, average='weighted')\n",
        "\n",
        "print(f'Test Accuracy: {accuracy}')\n",
        "print(f'Test Precision: {precision}')\n",
        "print(f'Test Recall: {recall}')\n",
        "print(f'Test F1 Score: {f1}')"
      ]
    },
    {
      "cell_type": "code",
      "execution_count": 24,
      "metadata": {
        "id": "dAAhAPx_r6H6"
      },
      "outputs": [],
      "source": [
        "# Save the model to a file\n",
        "with open('model_cat_boost.pkl', 'wb') as model_file:\n",
        "    pickle.dump(model_cat_boost, model_file)"
      ]
    },
    {
      "cell_type": "markdown",
      "metadata": {
        "id": "NUXol_3rr6H6"
      },
      "source": [
        "# Преподготовка данных для других моделей"
      ]
    },
    {
      "cell_type": "code",
      "execution_count": 3,
      "metadata": {
        "id": "gAY8A6WCv4IC"
      },
      "outputs": [],
      "source": [
        "import re\n",
        "import nltk\n",
        "from nltk.tokenize import word_tokenize\n",
        "from nltk.corpus import stopwords\n",
        "from sklearn.feature_extraction.text import TfidfVectorizer\n",
        "from sklearn.linear_model import LogisticRegression"
      ]
    },
    {
      "cell_type": "markdown",
      "metadata": {
        "id": "PamDvNLo2vU3"
      },
      "source": [
        "Предобработка текстовых данных\n"
      ]
    },
    {
      "cell_type": "code",
      "execution_count": 6,
      "metadata": {
        "colab": {
          "base_uri": "https://localhost:8080/",
          "height": 657
        },
        "id": "xpvWiWh8r6H6",
        "outputId": "ce84f850-8e41-45b5-a09a-16d8ddfee800"
      },
      "outputs": [
        {
          "name": "stderr",
          "output_type": "stream",
          "text": [
            "[nltk_data] Error loading punkt: <urlopen error [SSL:\n",
            "[nltk_data]     CERTIFICATE_VERIFY_FAILED] certificate verify failed:\n",
            "[nltk_data]     unable to get local issuer certificate (_ssl.c:1129)>\n"
          ]
        },
        {
          "data": {
            "text/html": [
              "<div>\n",
              "<style scoped>\n",
              "    .dataframe tbody tr th:only-of-type {\n",
              "        vertical-align: middle;\n",
              "    }\n",
              "\n",
              "    .dataframe tbody tr th {\n",
              "        vertical-align: top;\n",
              "    }\n",
              "\n",
              "    .dataframe thead th {\n",
              "        text-align: right;\n",
              "    }\n",
              "</style>\n",
              "<table border=\"1\" class=\"dataframe\">\n",
              "  <thead>\n",
              "    <tr style=\"text-align: right;\">\n",
              "      <th></th>\n",
              "      <th>product_title</th>\n",
              "      <th>merchant_id</th>\n",
              "      <th>cluster_label</th>\n",
              "      <th>category_id</th>\n",
              "    </tr>\n",
              "  </thead>\n",
              "  <tbody>\n",
              "    <tr>\n",
              "      <th>0</th>\n",
              "      <td>apple iphone  plus 64gb silver</td>\n",
              "      <td>1</td>\n",
              "      <td>apple iphone  plus 64gb</td>\n",
              "      <td>2612</td>\n",
              "    </tr>\n",
              "    <tr>\n",
              "      <th>1</th>\n",
              "      <td>apple iphone  plus  gb spacegrau</td>\n",
              "      <td>2</td>\n",
              "      <td>apple iphone  plus 64gb</td>\n",
              "      <td>2612</td>\n",
              "    </tr>\n",
              "    <tr>\n",
              "      <th>2</th>\n",
              "      <td>apple mq8n2b/a iphone  plus 64gb . 12mp sim fr...</td>\n",
              "      <td>3</td>\n",
              "      <td>apple iphone  plus 64gb</td>\n",
              "      <td>2612</td>\n",
              "    </tr>\n",
              "    <tr>\n",
              "      <th>3</th>\n",
              "      <td>apple iphone  plus 64gb space grey</td>\n",
              "      <td>4</td>\n",
              "      <td>apple iphone  plus 64gb</td>\n",
              "      <td>2612</td>\n",
              "    </tr>\n",
              "    <tr>\n",
              "      <th>4</th>\n",
              "      <td>apple iphone  plus gold . 64gb 4g unlocked sim...</td>\n",
              "      <td>5</td>\n",
              "      <td>apple iphone  plus 64gb</td>\n",
              "      <td>2612</td>\n",
              "    </tr>\n",
              "    <tr>\n",
              "      <th>...</th>\n",
              "      <td>...</td>\n",
              "      <td>...</td>\n",
              "      <td>...</td>\n",
              "      <td>...</td>\n",
              "    </tr>\n",
              "    <tr>\n",
              "      <th>35306</th>\n",
              "      <td>smeg fab28 60cm retro style right hand hinge f...</td>\n",
              "      <td>59</td>\n",
              "      <td>smeg fab28 cream</td>\n",
              "      <td>2623</td>\n",
              "    </tr>\n",
              "    <tr>\n",
              "      <th>35307</th>\n",
              "      <td>smeg fab28 60cm retro style left hand hinge fr...</td>\n",
              "      <td>59</td>\n",
              "      <td>smeg fab28 red</td>\n",
              "      <td>2623</td>\n",
              "    </tr>\n",
              "    <tr>\n",
              "      <th>35308</th>\n",
              "      <td>smeg fab28 60cm retro style left hand hinge fr...</td>\n",
              "      <td>59</td>\n",
              "      <td>smeg fab28 pink</td>\n",
              "      <td>2623</td>\n",
              "    </tr>\n",
              "    <tr>\n",
              "      <th>35309</th>\n",
              "      <td>candy 60cm built under larder fridge cru160nek</td>\n",
              "      <td>125</td>\n",
              "      <td>candy cru16.</td>\n",
              "      <td>2623</td>\n",
              "    </tr>\n",
              "    <tr>\n",
              "      <th>35310</th>\n",
              "      <td>neff k4316x7gb built under larder fridge</td>\n",
              "      <td>179</td>\n",
              "      <td>neff k4316</td>\n",
              "      <td>2623</td>\n",
              "    </tr>\n",
              "  </tbody>\n",
              "</table>\n",
              "<p>35311 rows × 4 columns</p>\n",
              "</div>"
            ],
            "text/plain": [
              "                                           product_title  merchant_id  \\\n",
              "0                         apple iphone  plus 64gb silver            1   \n",
              "1                       apple iphone  plus  gb spacegrau            2   \n",
              "2      apple mq8n2b/a iphone  plus 64gb . 12mp sim fr...            3   \n",
              "3                     apple iphone  plus 64gb space grey            4   \n",
              "4      apple iphone  plus gold . 64gb 4g unlocked sim...            5   \n",
              "...                                                  ...          ...   \n",
              "35306  smeg fab28 60cm retro style right hand hinge f...           59   \n",
              "35307  smeg fab28 60cm retro style left hand hinge fr...           59   \n",
              "35308  smeg fab28 60cm retro style left hand hinge fr...           59   \n",
              "35309     candy 60cm built under larder fridge cru160nek          125   \n",
              "35310           neff k4316x7gb built under larder fridge          179   \n",
              "\n",
              "                 cluster_label  category_id  \n",
              "0      apple iphone  plus 64gb         2612  \n",
              "1      apple iphone  plus 64gb         2612  \n",
              "2      apple iphone  plus 64gb         2612  \n",
              "3      apple iphone  plus 64gb         2612  \n",
              "4      apple iphone  plus 64gb         2612  \n",
              "...                        ...          ...  \n",
              "35306         smeg fab28 cream         2623  \n",
              "35307           smeg fab28 red         2623  \n",
              "35308          smeg fab28 pink         2623  \n",
              "35309             candy cru16.         2623  \n",
              "35310               neff k4316         2623  \n",
              "\n",
              "[35311 rows x 4 columns]"
            ]
          },
          "execution_count": 6,
          "metadata": {},
          "output_type": "execute_result"
        }
      ],
      "source": [
        "# скачиваем стопслова и пунктуацию из nltk\n",
        "nltk.download('punkt')\n",
        "# nltk.download('stopwords')\n",
        "\n",
        "# Load stopwords from NLTK\n",
        "# stop_words = set(stopwords.words('english'))\n",
        "\n",
        "def preprocess_text(text):\n",
        "    # переводим текст в нижний регистр\n",
        "    text = text.lower()\n",
        "    # удаляем сто слова\n",
        "    # text = ' '.join([word for word in word_tokenize(text) if word.lower() not in stop_words])\n",
        "    # удаляем доп знаки\n",
        "    text = re.sub(r'\\b\\d+\\b', '', text)\n",
        "    return text\n",
        "\n",
        "# создаем копию датафрэйма\n",
        "data_processed = data.copy()\n",
        "\n",
        "# добаялвем изменения к текстовым колонкам\n",
        "data_processed['product_title'] = data_processed['product_title'].apply(preprocess_text)\n",
        "data_processed['cluster_label'] = data_processed['cluster_label'].apply(preprocess_text)\n",
        "data_processed\n"
      ]
    },
    {
      "cell_type": "code",
      "execution_count": 7,
      "metadata": {
        "id": "haD0ugAxwRXR"
      },
      "outputs": [],
      "source": [
        "text_features = ['product_title', 'cluster_label']\n",
        "data_processed['text_features'] = data_processed[text_features].agg(' '.join, axis=1)\n",
        "\n",
        "tfidf_vectorizer = TfidfVectorizer(max_features= 5000)\n",
        "data_product = tfidf_vectorizer.fit_transform(data_processed['text_features']).toarray()\n",
        "\n",
        "# tfidf_vectorizer = TfidfVectorizer(max_features= 5000)\n",
        "# data_cluster_label = tfidf_vectorizer.fit_transform(data_processed['cluster_label']).toarray()"
      ]
    },
    {
      "cell_type": "code",
      "execution_count": 11,
      "metadata": {},
      "outputs": [],
      "source": [
        "import numpy as np"
      ]
    },
    {
      "cell_type": "code",
      "execution_count": 12,
      "metadata": {
        "id": "ZXa1Te_Iwh8L"
      },
      "outputs": [],
      "source": [
        "dummies = pd.get_dummies(data_processed['merchant_id'])\n",
        "\n",
        "# Объединение данных get_dummies с TF-IDF массивом\n",
        "# Предполагается, что data_text уже преобразован в массив\n",
        "combined_data = np.hstack((data_product, dummies))"
      ]
    },
    {
      "cell_type": "code",
      "execution_count": 13,
      "metadata": {
        "id": "lMcbq_iT2ZMN"
      },
      "outputs": [],
      "source": [
        "# определяем целевую переменную\n",
        "y_label = data_processed['category_id']"
      ]
    },
    {
      "cell_type": "code",
      "execution_count": 14,
      "metadata": {
        "id": "nq8Bphilr6H7"
      },
      "outputs": [],
      "source": [
        "# разделяем на трэйн/тест\n",
        "X_train, X_test, y_train, y_test = train_test_split(\n",
        "    combined_data, y_label, test_size=0.2, random_state=42\n",
        ")\n",
        "\n",
        "# Initialize the Logistic Regression model for text features\n",
        "logreg_model = LogisticRegression(max_iter=1000, random_state=42)\n",
        "\n",
        "# Train the model on text features\n",
        "logreg_model.fit(X_train, y_train)\n",
        "\n",
        "# Make predictions on the test set for text features\n",
        "y_pred = logreg_model.predict(X_test)\n"
      ]
    },
    {
      "cell_type": "code",
      "execution_count": 15,
      "metadata": {
        "colab": {
          "base_uri": "https://localhost:8080/"
        },
        "id": "JN4gSxJKr6H7",
        "outputId": "d358edec-6380-4ec1-bb86-bd21a96aee00"
      },
      "outputs": [
        {
          "name": "stdout",
          "output_type": "stream",
          "text": [
            "Precision: 0.9695\n",
            "Recall: 0.9694\n",
            "F1-Score: 0.9694\n"
          ]
        }
      ],
      "source": [
        "# Calculate precision, recall, and F1-score\n",
        "precision = precision_score(y_test, y_pred, average='weighted')\n",
        "recall = recall_score(y_test, y_pred, average='weighted')\n",
        "f1 = f1_score(y_test, y_pred, average='weighted')\n",
        "\n",
        "# Print the resultsy_label\n",
        "print(f'Precision: {precision:.4f}')\n",
        "print(f'Recall: {recall:.4f}')\n",
        "print(f'F1-Score: {f1:.4f}')"
      ]
    },
    {
      "cell_type": "code",
      "execution_count": 60,
      "metadata": {
        "id": "PzK23QPn3aJU"
      },
      "outputs": [],
      "source": [
        "# from joblib import Memory\n",
        "import pickle"
      ]
    },
    {
      "cell_type": "code",
      "execution_count": 22,
      "metadata": {
        "id": "ZLOMLtH2r6H7"
      },
      "outputs": [],
      "source": [
        "# Save the model to a file\n",
        "with open('logreg_model.pkl', 'wb') as model_file:\n",
        "    pickle.dump(logreg_model, model_file)"
      ]
    },
    {
      "cell_type": "markdown",
      "metadata": {
        "id": "Jaf59fVf7iUr"
      },
      "source": [
        "# Модель SVM\n"
      ]
    },
    {
      "cell_type": "code",
      "execution_count": 16,
      "metadata": {},
      "outputs": [],
      "source": [
        "from sklearn.svm import SVC"
      ]
    },
    {
      "cell_type": "code",
      "execution_count": 17,
      "metadata": {
        "id": "hsRsa74m40O-"
      },
      "outputs": [],
      "source": [
        "# Creating and training the SVM model\n",
        "svm_model = SVC(random_state=42)\n",
        "\n",
        "# Training the model\n",
        "svm_model.fit(X_train, y_train)\n",
        "\n",
        "# Evaluating the model\n",
        "y_pred = svm_model.predict(X_test)\n"
      ]
    },
    {
      "cell_type": "code",
      "execution_count": 18,
      "metadata": {
        "id": "z_ww-Bk29M79"
      },
      "outputs": [
        {
          "name": "stdout",
          "output_type": "stream",
          "text": [
            "Precision: 0.9637\n",
            "Recall: 0.9633\n",
            "F1-Score: 0.9634\n"
          ]
        }
      ],
      "source": [
        "\n",
        "# Calculate precision, recall, and F1-score\n",
        "precision = precision_score(y_test, y_pred, average='weighted')\n",
        "recall = recall_score(y_test, y_pred, average='weighted')\n",
        "f1 = f1_score(y_test, y_pred, average='weighted')\n",
        "\n",
        "# Print the results\n",
        "print(f'Precision: {precision:.4f}')\n",
        "print(f'Recall: {recall:.4f}')\n",
        "print(f'F1-Score: {f1:.4f}')"
      ]
    },
    {
      "cell_type": "code",
      "execution_count": 20,
      "metadata": {},
      "outputs": [],
      "source": [
        "import pickle"
      ]
    },
    {
      "cell_type": "code",
      "execution_count": 21,
      "metadata": {
        "id": "DiCqUe7E9IyT"
      },
      "outputs": [],
      "source": [
        "with open('svm_model.pkl', 'wb') as model_file:\n",
        "    pickle.dump(svm_model, model_file)"
      ]
    }
  ],
  "metadata": {
    "colab": {
      "provenance": []
    },
    "kernelspec": {
      "display_name": "Python 3",
      "language": "python",
      "name": "python3"
    },
    "language_info": {
      "codemirror_mode": {
        "name": "ipython",
        "version": 3
      },
      "file_extension": ".py",
      "mimetype": "text/x-python",
      "name": "python",
      "nbconvert_exporter": "python",
      "pygments_lexer": "ipython3",
      "version": "3.9.13"
    }
  },
  "nbformat": 4,
  "nbformat_minor": 0
}
